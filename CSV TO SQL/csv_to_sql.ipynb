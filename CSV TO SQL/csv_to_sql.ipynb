{
 "cells": [
  {
   "cell_type": "code",
   "execution_count": 10,
   "metadata": {},
   "outputs": [],
   "source": [
    "import sqlite3\n",
    "import pandas as pd"
   ]
  },
  {
   "cell_type": "code",
   "execution_count": 4,
   "metadata": {},
   "outputs": [],
   "source": [
    "conn = sqlite3.connect('characters.db')\n",
    "cursor = conn.cursor()"
   ]
  },
  {
   "cell_type": "code",
   "execution_count": 14,
   "metadata": {},
   "outputs": [
    {
     "name": "stdout",
     "output_type": "stream",
     "text": [
      "<class 'pandas.core.frame.DataFrame'>\n",
      "RangeIndex: 6896 entries, 0 to 6895\n",
      "Data columns (total 13 columns):\n",
      " #   Column            Non-Null Count  Dtype  \n",
      "---  ------            --------------  -----  \n",
      " 0   page_id           6896 non-null   int64  \n",
      " 1   name              6896 non-null   object \n",
      " 2   urlslug           6896 non-null   object \n",
      " 3   ID                4883 non-null   object \n",
      " 4   ALIGN             6295 non-null   object \n",
      " 5   EYE               3268 non-null   object \n",
      " 6   HAIR              4622 non-null   object \n",
      " 7   SEX               6771 non-null   object \n",
      " 8   GSM               64 non-null     object \n",
      " 9   ALIVE             6893 non-null   object \n",
      " 10  APPEARANCES       6541 non-null   float64\n",
      " 11  FIRST APPEARANCE  6827 non-null   object \n",
      " 12  YEAR              6827 non-null   float64\n",
      "dtypes: float64(2), int64(1), object(10)\n",
      "memory usage: 700.5+ KB\n"
     ]
    }
   ],
   "source": [
    "df = pd.read_csv('dc-wikia-data.csv')\n",
    "df.info()"
   ]
  },
  {
   "cell_type": "code",
   "execution_count": 45,
   "metadata": {},
   "outputs": [
    {
     "data": {
      "text/plain": [
       "[]"
      ]
     },
     "execution_count": 45,
     "metadata": {},
     "output_type": "execute_result"
    }
   ],
   "source": [
    "table_name = 'characters'\n",
    "\n",
    "columns_with_types = \", \".join([f\"{col.replace(' ', '_')} TEXT\" for col in df.columns]) # Eg: pageId TEXT, name TEXT, urslug TEXT, ...\n",
    "create_table_query = f\"CREATE TABLE IF NOT EXISTS {table_name} ({columns_with_types});\"\n",
    "\n",
    "cursor.execute(create_table_query)\n",
    "cursor.fetchall()"
   ]
  },
  {
   "cell_type": "code",
   "execution_count": 42,
   "metadata": {},
   "outputs": [
    {
     "data": {
      "text/plain": [
       "<sqlite3.Cursor at 0x10a80ca40>"
      ]
     },
     "execution_count": 42,
     "metadata": {},
     "output_type": "execute_result"
    }
   ],
   "source": [
    "cursor.execute('DROP TABLE characters;')"
   ]
  },
  {
   "cell_type": "code",
   "execution_count": 46,
   "metadata": {},
   "outputs": [
    {
     "data": {
      "text/plain": [
       "[(0, 'page_id', 'TEXT', 0, None, 0),\n",
       " (1, 'name', 'TEXT', 0, None, 0),\n",
       " (2, 'urlslug', 'TEXT', 0, None, 0),\n",
       " (3, 'ID', 'TEXT', 0, None, 0),\n",
       " (4, 'ALIGN', 'TEXT', 0, None, 0),\n",
       " (5, 'EYE', 'TEXT', 0, None, 0),\n",
       " (6, 'HAIR', 'TEXT', 0, None, 0),\n",
       " (7, 'SEX', 'TEXT', 0, None, 0),\n",
       " (8, 'GSM', 'TEXT', 0, None, 0),\n",
       " (9, 'ALIVE', 'TEXT', 0, None, 0),\n",
       " (10, 'APPEARANCES', 'TEXT', 0, None, 0),\n",
       " (11, 'FIRST_APPEARANCE', 'TEXT', 0, None, 0),\n",
       " (12, 'YEAR', 'TEXT', 0, None, 0)]"
      ]
     },
     "execution_count": 46,
     "metadata": {},
     "output_type": "execute_result"
    }
   ],
   "source": [
    "cursor.execute('pragma table_info(characters);')\n",
    "cursor.fetchall()"
   ]
  },
  {
   "cell_type": "code",
   "execution_count": 54,
   "metadata": {},
   "outputs": [],
   "source": [
    "for index, row in df.iterrows():\n",
    "    values = \", \".join([f'\"{i}\"' for i in row])\n",
    "    insert_sql = f\"INSERT INTO {table_name} ({', '.join(df.columns.str.replace(' ', '_'))}) VALUES ({values})\"\n",
    "    cursor.execute(insert_sql)"
   ]
  },
  {
   "cell_type": "code",
   "execution_count": 70,
   "metadata": {},
   "outputs": [
    {
     "data": {
      "text/plain": [
       "[(6896,)]"
      ]
     },
     "execution_count": 70,
     "metadata": {},
     "output_type": "execute_result"
    }
   ],
   "source": [
    "cursor.execute('SELECT COUNT(*) FROM characters')\n",
    "cursor.fetchall()"
   ]
  },
  {
   "cell_type": "code",
   "execution_count": 71,
   "metadata": {},
   "outputs": [
    {
     "data": {
      "text/plain": [
       "(6896, 13)"
      ]
     },
     "execution_count": 71,
     "metadata": {},
     "output_type": "execute_result"
    }
   ],
   "source": [
    "df.shape"
   ]
  },
  {
   "cell_type": "code",
   "execution_count": 72,
   "metadata": {},
   "outputs": [],
   "source": [
    "conn.commit()\n",
    "conn.close()"
   ]
  }
 ],
 "metadata": {
  "kernelspec": {
   "display_name": "ds",
   "language": "python",
   "name": "python3"
  },
  "language_info": {
   "codemirror_mode": {
    "name": "ipython",
    "version": 3
   },
   "file_extension": ".py",
   "mimetype": "text/x-python",
   "name": "python",
   "nbconvert_exporter": "python",
   "pygments_lexer": "ipython3",
   "version": "3.12.0"
  }
 },
 "nbformat": 4,
 "nbformat_minor": 2
}
